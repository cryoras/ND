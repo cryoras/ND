{
 "cells": [
  {
   "cell_type": "markdown",
   "metadata": {},
   "source": [
    "# Generate synthetis data for text classification natural disaster"
   ]
  },
  {
   "cell_type": "code",
   "execution_count": 3,
   "metadata": {},
   "outputs": [],
   "source": [
    "import random\n",
    "import numpy as np\n",
    "import pandas as pd"
   ]
  },
  {
   "cell_type": "code",
   "execution_count": 4,
   "metadata": {},
   "outputs": [
    {
     "name": "stdout",
     "output_type": "stream",
     "text": [
      "Contoh 5 baris pertama dari data sintetis dengan variasi kata yang lebih kaya:\n",
      "                                                Teks       Label\n",
      "0  Warga Sumatera Barat panik akibat getaran kuat...  Gempa Bumi\n",
      "1  Terjadi gempa tektonik di Lampung dengan magni...  Gempa Bumi\n",
      "2  Terjadi gempa tektonik di Sulawesi Barat denga...  Gempa Bumi\n",
      "3  Gempa bumi berkekuatan 8.4 melanda Nusa Tengga...  Gempa Bumi\n",
      "4  Warga Sulawesi Tenggara panik akibat guncangan...  Gempa Bumi\n"
     ]
    }
   ],
   "source": [
    "lokasi = [\"Aceh\", \"Sumatera Utara\", \"Sumatera Barat\", \"Riau\", \"Jambi\", \"Sumatera Selatan\", \"Bengkulu\", \"Lampung\", \"Bangka Belitung\", \"Kepulauan Riau\", \"Jakarta\", \"Jawa Barat\", \"Jawa Tengah\", \"Yogyakarta\", \"Jawa Timur\", \"Banten\", \"Bali\", \"Nusa Tenggara Barat\", \"Nusa Tenggara Timur\", \"Kalimantan Barat\", \"Kalimantan Tengah\", \"Kalimantan Selatan\", \"Kalimantan Timur\", \"Kalimantan Utara\", \"Sulawesi Utara\", \"Sulawesi Tengah\", \"Sulawesi Selatan\", \"Sulawesi Tenggara\", \"Gorontalo\", \"Sulawesi Barat\", \"Maluku\", \"Maluku Utara\", \"Papua Barat\", \"Papua\"]\n",
    "\n",
    "bulan = [\"Januari\", \"Februari\", \"Maret\", \"April\", \"Mei\", \"Juni\", \"Juli\", \"Agustus\", \"September\", \"Oktober\", \"November\", \"Desember\"]\n",
    "\n",
    "kata_guncangan = [\"guncangan hebat\", \"getaran kuat\", \"hentakan dahsyat\", \"goyangan keras\"]\n",
    "kata_kerusakan = [\"kerusakan parah\", \"kehancuran bangunan\", \"retakan dinding\", \"runtuhnya rumah\"]\n",
    "kata_melanda = [\"menerjang\", \"menghantam\", \"menyapu\", \"merusak\"]\n",
    "kata_hujan = [\"hujan deras\", \"hujan lebat\", \"curah hujan ekstrem\", \"badai hujan\"]\n",
    "kata_evak = [\"mengungsi\", \"dievakuasi\", \"menyelamatkan diri\", \"berlindung\"]\n",
    "\n",
    "variasi_gempa = [\n",
    "    \"Gempa bumi berkekuatan {magnitudo} melanda {lokasi} dengan {guncangan} pada {tanggal}.\",\n",
    "    \"Terjadi gempa tektonik di {lokasi} dengan magnitudo {magnitudo}, menyebabkan {kerusakan} pada {tanggal}.\",\n",
    "    \"Warga {lokasi} panik akibat {guncangan} gempa berkekuatan {magnitudo} pada {tanggal}.\",\n",
    "    \"{lokasi} diguncang gempa magnitudo {magnitudo} yang memicu {kerusakan} pada {tanggal}.\"\n",
    "]\n",
    "\n",
    "variasi_tsunami = [\n",
    "    \"Tsunami setinggi {tinggi} meter {melanda} pesisir {lokasi} pada {tanggal}.\",\n",
    "    \"Gelombang tsunami {melanda} {lokasi} setelah gempa, menyebabkan {kerusakan} pada {tanggal}.\",\n",
    "    \"Warga {lokasi} {evak} akibat tsunami setinggi {tinggi} meter pada {tanggal}.\",\n",
    "    \"{lokasi} porak-poranda karena tsunami {melanda} wilayah pesisir pada {tanggal}.\"\n",
    "]\n",
    "\n",
    "variasi_banjir = [\n",
    "    \"Banjir besar {melanda} {lokasi} akibat {hujan} sepanjang {tanggal}.\",\n",
    "    \"{hujan} di {lokasi} memicu banjir yang {melanda} ratusan rumah pada {tanggal}.\",\n",
    "    \"Warga {lokasi} {evak} karena banjir bandang yang {melanda} pada {tanggal}.\",\n",
    "    \"{lokasi} lumpuh total akibat banjir setelah {hujan} pada {tanggal}.\"\n",
    "]\n",
    "\n",
    "variasi_longsor = [\n",
    "    \"Tanah longsor di {lokasi} {melanda} akses jalan utama pada {tanggal}.\",\n",
    "    \"Longsor dahsyat di {lokasi} akibat {hujan} menyebabkan {kerusakan} pada {tanggal}.\",\n",
    "    \"{hujan} memicu longsor di {lokasi}, warga terpaksa {evak} pada {tanggal}.\",\n",
    "    \"Wilayah {lokasi} terganggu akibat longsor yang {melanda} lereng bukit pada {tanggal}.\"\n",
    "]\n",
    "\n",
    "variasi_unidentified = [\n",
    "    \"Ada kejadian misterius di {lokasi}, warga bingung pada {tanggal}.\",\n",
    "    \"Laporan dari {lokasi} menyebut situasi kacau, tapi penyebabnya masih kabur pada {tanggal}.\",\n",
    "    \"Sesuatu yang janggal dilaporkan warga {lokasi}, detailnya belum jelas pada {tanggal}.\",\n",
    "    \"Informasi dari {lokasi} masih samar dan membingungkan pada {tanggal}.\"\n",
    "]\n",
    "\n",
    "def generate_tanggal():\n",
    "    hari = random.randint(1, 28)\n",
    "    bln = random.choice(bulan)\n",
    "    tahun = random.randint(2000, 2023)\n",
    "    return f\"{hari} {bln} {tahun}\"\n",
    "\n",
    "def generate_teks(kelas):\n",
    "    lok = random.choice(lokasi)\n",
    "    tanggal = generate_tanggal()\n",
    "    if kelas == \"Gempa Bumi\":\n",
    "        magnitudo = round(random.uniform(4.0, 9.0), 1)\n",
    "        template = random.choice(variasi_gempa)\n",
    "        return template.format(\n",
    "            magnitudo=magnitudo,\n",
    "            lokasi=lok,\n",
    "            tanggal=tanggal,\n",
    "            guncangan=random.choice(kata_guncangan),\n",
    "            kerusakan=random.choice(kata_kerusakan)\n",
    "        )\n",
    "    elif kelas == \"Tsunami\":\n",
    "        tinggi = random.randint(1, 10)\n",
    "        template = random.choice(variasi_tsunami)\n",
    "        return template.format(\n",
    "            tinggi=tinggi,\n",
    "            lokasi=lok,\n",
    "            tanggal=tanggal,\n",
    "            melanda=random.choice(kata_melanda),\n",
    "            kerusakan=random.choice(kata_kerusakan),\n",
    "            evak=random.choice(kata_evak)\n",
    "        )\n",
    "    elif kelas == \"Banjir\":\n",
    "        template = random.choice(variasi_banjir)\n",
    "        return template.format(\n",
    "            lokasi=lok,\n",
    "            tanggal=tanggal,\n",
    "            melanda=random.choice(kata_melanda),\n",
    "            hujan=random.choice(kata_hujan),\n",
    "            evak=random.choice(kata_evak)\n",
    "        )\n",
    "    elif kelas == \"Tanah Longsor\":\n",
    "        template = random.choice(variasi_longsor)\n",
    "        return template.format(\n",
    "            lokasi=lok,\n",
    "            tanggal=tanggal,\n",
    "            melanda=random.choice(kata_melanda),\n",
    "            hujan=random.choice(kata_hujan),\n",
    "            kerusakan=random.choice(kata_kerusakan),\n",
    "            evak=random.choice(kata_evak)\n",
    "        )\n",
    "    elif kelas == \"UNIDENTIFIED\":\n",
    "        template = random.choice(variasi_unidentified)\n",
    "        return template.format(lokasi=lok, tanggal=tanggal)\n",
    "\n",
    "kelas_list = [\"Gempa Bumi\", \"Tsunami\", \"Banjir\", \"Tanah Longsor\", \"UNIDENTIFIED\"]\n",
    "\n",
    "data = []\n",
    "for kelas in kelas_list:\n",
    "    for _ in range(1000):\n",
    "        teks = generate_teks(kelas)\n",
    "        data.append([teks, kelas])\n",
    "\n",
    "df = pd.DataFrame(data, columns=[\"Teks\", \"Label\"])\n",
    "df.to_csv(\"ND.csv\", index=False)\n",
    "\n",
    "print(\"Contoh 5 baris pertama dari data sintetis dengan variasi kata yang lebih kaya:\")\n",
    "print(df.head())"
   ]
  },
  {
   "cell_type": "code",
   "execution_count": 5,
   "metadata": {},
   "outputs": [
    {
     "name": "stdout",
     "output_type": "stream",
     "text": [
      "<class 'pandas.core.frame.DataFrame'>\n",
      "RangeIndex: 5000 entries, 0 to 4999\n",
      "Data columns (total 2 columns):\n",
      " #   Column  Non-Null Count  Dtype \n",
      "---  ------  --------------  ----- \n",
      " 0   Teks    5000 non-null   object\n",
      " 1   Label   5000 non-null   object\n",
      "dtypes: object(2)\n",
      "memory usage: 78.3+ KB\n"
     ]
    }
   ],
   "source": [
    "data = pd.read_csv('ND.csv')\n",
    "data.info()"
   ]
  },
  {
   "cell_type": "code",
   "execution_count": 7,
   "metadata": {},
   "outputs": [],
   "source": [
    "cleaned_data = data.dropna()\n",
    "cleaned_data = cleaned_data.drop_duplicates()\n",
    "\n",
    "jumlah_ulasan_setelah_hapus_duplikat, jumlah_kolom_setelah_hapus_duplikat = cleaned_data.shape"
   ]
  },
  {
   "cell_type": "code",
   "execution_count": 9,
   "metadata": {},
   "outputs": [
    {
     "name": "stdout",
     "output_type": "stream",
     "text": [
      "Jumlah ulasan setelah dihapus duplikat:  5000\n",
      "Jumlah kolom setelah dihapus duplikat:  2\n"
     ]
    }
   ],
   "source": [
    "print(\"Jumlah ulasan setelah dihapus duplikat: \", jumlah_ulasan_setelah_hapus_duplikat)\n",
    "print(\"Jumlah kolom setelah dihapus duplikat: \", jumlah_kolom_setelah_hapus_duplikat)"
   ]
  }
 ],
 "metadata": {
  "kernelspec": {
   "display_name": "natural_disaster_text",
   "language": "python",
   "name": "python3"
  },
  "language_info": {
   "codemirror_mode": {
    "name": "ipython",
    "version": 3
   },
   "file_extension": ".py",
   "mimetype": "text/x-python",
   "name": "python",
   "nbconvert_exporter": "python",
   "pygments_lexer": "ipython3",
   "version": "3.13.2"
  }
 },
 "nbformat": 4,
 "nbformat_minor": 2
}
