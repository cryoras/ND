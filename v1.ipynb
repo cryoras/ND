{
  "cells": [
    {
      "cell_type": "markdown",
      "metadata": {
        "id": "54KsmSa2qZRO"
      },
      "source": [
        "# Generate synthetis data for text classification natural disaster"
      ]
    },
    {
      "cell_type": "code",
      "source": [
        "!pip install sastrawi"
      ],
      "metadata": {
        "id": "DklCEAnXsFr-",
        "outputId": "deed6dd7-7fe4-4239-aade-e7ba88680fe8",
        "colab": {
          "base_uri": "https://localhost:8080/"
        }
      },
      "execution_count": 10,
      "outputs": [
        {
          "output_type": "stream",
          "name": "stdout",
          "text": [
            "Requirement already satisfied: sastrawi in /usr/local/lib/python3.11/dist-packages (1.0.1)\n"
          ]
        }
      ]
    },
    {
      "cell_type": "code",
      "execution_count": 11,
      "metadata": {
        "id": "0BF48VBrqZRT"
      },
      "outputs": [],
      "source": [
        "import random\n",
        "import numpy as np\n",
        "import pandas as pd\n",
        "import re\n",
        "import string\n",
        "from nltk.tokenize import word_tokenize\n",
        "from nltk.corpus import stopwords\n",
        "from Sastrawi.Stemmer.StemmerFactory import StemmerFactory\n",
        "from Sastrawi.StopWordRemover.StopWordRemoverFactory import StopWordRemoverFactory\n",
        "import nltk\n",
        "from sklearn.metrics import accuracy_score"
      ]
    },
    {
      "cell_type": "code",
      "execution_count": 4,
      "metadata": {
        "id": "vDSBsojYqZRc",
        "outputId": "e51f4b43-ab6d-4cff-ad8f-25baac6219aa",
        "colab": {
          "base_uri": "https://localhost:8080/"
        }
      },
      "outputs": [
        {
          "output_type": "stream",
          "name": "stdout",
          "text": [
            "<class 'pandas.core.frame.DataFrame'>\n",
            "RangeIndex: 5000 entries, 0 to 4999\n",
            "Data columns (total 2 columns):\n",
            " #   Column  Non-Null Count  Dtype \n",
            "---  ------  --------------  ----- \n",
            " 0   Teks    5000 non-null   object\n",
            " 1   Label   5000 non-null   object\n",
            "dtypes: object(2)\n",
            "memory usage: 78.3+ KB\n"
          ]
        }
      ],
      "source": [
        "data = pd.read_csv('https://raw.githubusercontent.com/cryoras/ND/refs/heads/main/ND.csv')\n",
        "data.info()"
      ]
    },
    {
      "cell_type": "markdown",
      "source": [
        "# preprocessing text"
      ],
      "metadata": {
        "id": "6PfBI28noe5I"
      }
    },
    {
      "cell_type": "markdown",
      "source": [
        "## case folding"
      ],
      "metadata": {
        "id": "i0DrXuSCoj0z"
      }
    },
    {
      "cell_type": "code",
      "source": [],
      "metadata": {
        "id": "IHshxO20onn-"
      },
      "execution_count": null,
      "outputs": []
    },
    {
      "cell_type": "markdown",
      "source": [
        "## removal spasial character"
      ],
      "metadata": {
        "id": "ANkcvr4TonGI"
      }
    },
    {
      "cell_type": "code",
      "source": [],
      "metadata": {
        "id": "dLnFtxarosTy"
      },
      "execution_count": null,
      "outputs": []
    },
    {
      "cell_type": "markdown",
      "source": [
        "## stopword removal"
      ],
      "metadata": {
        "id": "zyt0NfEHosq-"
      }
    },
    {
      "cell_type": "code",
      "source": [],
      "metadata": {
        "id": "9KqA9gV6pNgM"
      },
      "execution_count": null,
      "outputs": []
    },
    {
      "cell_type": "markdown",
      "source": [
        "## stemming & lemmatization"
      ],
      "metadata": {
        "id": "j4kVMfRgpN3j"
      }
    },
    {
      "cell_type": "code",
      "source": [],
      "metadata": {
        "id": "Pt83os0apRju"
      },
      "execution_count": null,
      "outputs": []
    },
    {
      "cell_type": "markdown",
      "source": [
        "## tokenization"
      ],
      "metadata": {
        "id": "MLrFBU_RpR0O"
      }
    },
    {
      "cell_type": "code",
      "source": [],
      "metadata": {
        "id": "94B5jrpupUxo"
      },
      "execution_count": null,
      "outputs": []
    },
    {
      "cell_type": "markdown",
      "source": [
        "## use oov"
      ],
      "metadata": {
        "id": "CeGRal3UpVc8"
      }
    },
    {
      "cell_type": "code",
      "source": [],
      "metadata": {
        "id": "iFxKmsBXpXbG"
      },
      "execution_count": null,
      "outputs": []
    },
    {
      "cell_type": "markdown",
      "source": [
        "# padding &  use oov"
      ],
      "metadata": {
        "id": "qdhhHdDup9Ns"
      }
    }
  ],
  "metadata": {
    "kernelspec": {
      "display_name": "Python 3",
      "name": "python3"
    },
    "language_info": {
      "codemirror_mode": {
        "name": "ipython",
        "version": 3
      },
      "file_extension": ".py",
      "mimetype": "text/x-python",
      "name": "python",
      "nbconvert_exporter": "python",
      "pygments_lexer": "ipython3",
      "version": "3.13.2"
    },
    "colab": {
      "provenance": [],
      "gpuType": "T4"
    },
    "accelerator": "GPU"
  },
  "nbformat": 4,
  "nbformat_minor": 0
}